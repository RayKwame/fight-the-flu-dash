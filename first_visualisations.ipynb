{
 "cells": [
  {
   "cell_type": "code",
   "execution_count": 1,
   "source": [
    "import pandas as pd\n",
    "import dash\n",
    "import dash_core_components as dcc\n",
    "import plotly.graph_objects as go\n",
    "import dash_html_components as html"
   ],
   "outputs": [],
   "metadata": {}
  },
  {
   "cell_type": "markdown",
   "source": [
    "Original code from dash.ipynb"
   ],
   "metadata": {}
  },
  {
   "cell_type": "code",
   "execution_count": 2,
   "source": [
    "'''SENTIMENTS = [\"POSITIVE\", \"NEGATIVE\"]\n",
    "SCORES = [0.5, 0.2]\n",
    "\n",
    "def get_figure(sentiment, scores):\n",
    "    return go.Figure(\n",
    "        [go.Bar(x=SENTIMENTS, y=SCORES)],\n",
    "        layout=go.Layout(template=\"simple_white\"),\n",
    "    )\n",
    "\n",
    "\n",
    "fig = get_figure(SENTIMENTS, SCORES)'''"
   ],
   "outputs": [
    {
     "output_type": "execute_result",
     "data": {
      "text/plain": [
       "'SENTIMENTS = [\"POSITIVE\", \"NEGATIVE\"]\\nSCORES = [0.5, 0.2]\\n\\ndef get_figure(sentiment, scores):\\n    return go.Figure(\\n        [go.Bar(x=SENTIMENTS, y=SCORES)],\\n        layout=go.Layout(template=\"simple_white\"),\\n    )\\n\\n\\nfig = get_figure(SENTIMENTS, SCORES)'"
      ]
     },
     "metadata": {},
     "execution_count": 2
    }
   ],
   "metadata": {}
  },
  {
   "cell_type": "markdown",
   "source": [
    "Visualizing the distribution of vaccinations\n",
    "- H1N1 vs. seasonal "
   ],
   "metadata": {}
  },
  {
   "cell_type": "code",
   "execution_count": 3,
   "source": [
    "# data still needs to be imported\n",
    "\n",
    "print(df.h1n1_vaccine.value_counts())\n",
    "print(df.seasonal_vaccine.value_counts())\n",
    "x_h1n1 = \n",
    "x_seasonal = \n",
    "y_h1n1 = \n",
    "y_seasonal = \n",
    "\n",
    "#update of the graph function, using grouped bar charts\n",
    "#no interactivity, taking \n",
    "def get_distribution():\n",
    "    return go.Figure(data=[\n",
    "    go.Bar(name='Intake of H1N1 vaccines', x=x_h1n1, y=y_h1n1), \n",
    "    go.Bar(name='Intake of seasonal flu vaccine', x=x_seasonal, y=y_seasonal)\n",
    "])\n",
    "\n",
    "# Change the bar mode\n",
    "fig.update_layout(barmode='group')\n",
    "fig.show()"
   ],
   "outputs": [
    {
     "output_type": "error",
     "ename": "SyntaxError",
     "evalue": "invalid syntax (<ipython-input-3-e42b67804b99>, line 5)",
     "traceback": [
      "\u001b[0;36m  File \u001b[0;32m\"<ipython-input-3-e42b67804b99>\"\u001b[0;36m, line \u001b[0;32m5\u001b[0m\n\u001b[0;31m    x_h1n1 =\u001b[0m\n\u001b[0m             ^\u001b[0m\n\u001b[0;31mSyntaxError\u001b[0m\u001b[0;31m:\u001b[0m invalid syntax\n"
     ]
    }
   ],
   "metadata": {}
  }
 ],
 "metadata": {
  "interpreter": {
   "hash": "58d1da2a6d3f214195a915250d4adaf4f7b5bd7ff833ae73389fbb4ad54d4c73"
  },
  "kernelspec": {
   "name": "python3",
   "display_name": "Python 3.8.11 64-bit ('.venv': venv)"
  },
  "language_info": {
   "name": "python",
   "version": "3.8.11",
   "mimetype": "text/x-python",
   "codemirror_mode": {
    "name": "ipython",
    "version": 3
   },
   "pygments_lexer": "ipython3",
   "nbconvert_exporter": "python",
   "file_extension": ".py"
  },
  "orig_nbformat": 4
 },
 "nbformat": 4,
 "nbformat_minor": 2
}