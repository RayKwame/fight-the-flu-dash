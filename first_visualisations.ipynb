{
 "cells": [
  {
   "cell_type": "code",
   "execution_count": null,
   "metadata": {},
   "outputs": [],
   "source": [
    "import pandas as pd\n",
    "import dash\n",
    "import dash_core_components as dcc\n",
    "import plotly.graph_objects as go\n",
    "import dash_html_components as html"
   ]
  },
  {
   "cell_type": "markdown",
   "metadata": {},
   "source": [
    "Original code from dash.ipynb"
   ]
  },
  {
   "cell_type": "code",
   "execution_count": null,
   "metadata": {},
   "outputs": [],
   "source": [
    "'''SENTIMENTS = [\"POSITIVE\", \"NEGATIVE\"]\n",
    "SCORES = [0.5, 0.2]\n",
    "\n",
    "def get_figure(sentiment, scores):\n",
    "    return go.Figure(\n",
    "        [go.Bar(x=SENTIMENTS, y=SCORES)],\n",
    "        layout=go.Layout(template=\"simple_white\"),\n",
    "    )\n",
    "\n",
    "\n",
    "fig = get_figure(SENTIMENTS, SCORES)'''"
   ]
  },
  {
   "cell_type": "markdown",
   "metadata": {},
   "source": [
    "Visualizing the distribution of vaccinations\n",
    "- H1N1 vs. seasonal "
   ]
  },
  {
   "cell_type": "code",
   "execution_count": null,
   "metadata": {},
   "outputs": [],
   "source": [
    "# data still needs to be imported\n",
    "\n",
    "print(df.h1n1_vaccine.value_counts())\n",
    "print(df.seasonal_vaccine.value_counts())\n",
    "x_h1n1 = \n",
    "x_seasonal = \n",
    "y_h1n1 = \n",
    "y_seasonal = \n",
    "\n",
    "#update of the graph function, using grouped bar charts\n",
    "#no interactivity, taking \n",
    "def get_distribution():\n",
    "    return go.Figure(data=[\n",
    "    go.Bar(name='Intake of H1N1 vaccines', x=x_h1n1, y=y_h1n1), \n",
    "    go.Bar(name='Intake of seasonal flu vaccine', x=x_seasonal, y=y_seasonal)\n",
    "])\n",
    "\n",
    "# Change the bar mode\n",
    "fig.update_layout(barmode='group')\n",
    "fig.show()"
   ]
  }
 ],
 "metadata": {
  "interpreter": {
   "hash": "fde658239c258ae082c6d4ebed259ba370738c067dd16a3fc0ef73634674ef2a"
  },
  "kernelspec": {
   "display_name": "Python 3.8.11 64-bit ('.venv': venv)",
   "name": "python3"
  },
  "language_info": {
   "name": "python",
   "version": ""
  },
  "orig_nbformat": 4
 },
 "nbformat": 4,
 "nbformat_minor": 2
}