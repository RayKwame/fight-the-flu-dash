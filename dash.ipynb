{
 "cells": [
  {
   "cell_type": "markdown",
   "source": [
    "# Simple Dash Plotly Dashboard"
   ],
   "metadata": {}
  },
  {
   "cell_type": "code",
   "execution_count": null,
   "source": [
    "import pandas as pd\n",
    "import dash\n",
    "import dash_core_components as dcc\n",
    "import plotly.graph_objects as go\n",
    "import dash_html_components as html\n",
    "\n",
    "\n",
    "import plotly.express as px\n",
    "import numpy as np\n",
    "from plotly.subplots import make_subplots\n"
   ],
   "outputs": [],
   "metadata": {}
  },
  {
   "cell_type": "code",
   "execution_count": null,
   "source": [
    "SENTIMENTS = [\"POSITIVE\", \"NEGATIVE\"]\n",
    "SCORES = [0.5, 0.2]\n",
    "\n",
    "def get_figure(sentiment, scores):\n",
    "    return go.Figure(\n",
    "        [go.Bar(x=SENTIMENTS, y=SCORES)],\n",
    "        layout=go.Layout(template=\"simple_white\"),\n",
    "    )\n",
    "\n",
    "\n",
    "fig = get_figure(SENTIMENTS, SCORES)"
   ],
   "outputs": [],
   "metadata": {}
  },
  {
   "cell_type": "code",
   "execution_count": null,
   "source": [
    "fig.show()"
   ],
   "outputs": [],
   "metadata": {}
  },
  {
   "cell_type": "code",
   "execution_count": null,
   "source": [
    "# Reading in the data \n",
    "df = pd.read_csv('data/Flu_Shot_Data_cleaned_1.csv')"
   ],
   "outputs": [],
   "metadata": {}
  },
  {
   "cell_type": "code",
   "execution_count": null,
   "source": [
    "colors = {\n",
    "          '0': 'orange',\n",
    "          '1': 'lightgreen'}')\n",
    "\n",
    "\n",
    "\n",
    "def get_H1N1(\n",
    "\n",
    "          def get_figure(sentiment, scores):\n",
    "    return go.Figure(\n",
    "        [go.Bar(x=SENTIMENTS, y=SCORES)],\n",
    "        layout=go.Layout(template=\"simple_white\"),\n",
    "    )\n",
    "\n",
    "\n",
    "fig = get_figure(SENTIMENTS, SCORES)"
   ],
   "outputs": [],
   "metadata": {}
  },
  {
   "cell_type": "code",
   "execution_count": null,
   "source": [
    "fig= px.histogram(df, x=\"h1n1_vaccine\", color=\"h1n1_vaccine\")#sns.countplot(x='h1n1_vaccine', data=df, category_orders=dict(h1n1_vaccine=[\"0\", \"1\"]))\n",
    "\n",
    "fig.update_layout(bargap=0.2)\n",
    "fig.update_layout(\n",
    "    xaxis = dict(\n",
    "        tickmode = 'array',\n",
    "        tickvals = [0,1],\n",
    "        ticktext = ['NOT VACCINATED', 'VACCINATED']\n",
    "    ),\n",
    "    showlegend=False\n",
    ")\n",
    "\n",
    "\n",
    "fig.show()"
   ],
   "outputs": [],
   "metadata": {}
  },
  {
   "cell_type": "code",
   "execution_count": null,
   "source": [
    "data1 = df.groupby([\"h1n1_vaccine\"],as_index=True)[\"h1n1_vaccine\"].count().reset_index(name=\"count\")\n",
    "data2 = df.groupby([\"seasonal_vaccine\"],as_index=True)[\"seasonal_vaccine\"].count().reset_index(name=\"count\")\n"
   ],
   "outputs": [],
   "metadata": {}
  },
  {
   "cell_type": "code",
   "execution_count": null,
   "source": [
    "data1"
   ],
   "outputs": [],
   "metadata": {}
  },
  {
   "cell_type": "code",
   "execution_count": null,
   "source": [
    "data2"
   ],
   "outputs": [],
   "metadata": {}
  },
  {
   "cell_type": "code",
   "execution_count": null,
   "source": [
    "fig = go.Figure(data=[\n",
    "    go.Bar(name='Not vaccined', x=data.query('h1n1_vaccine == 0'), y=data.query('h1n1_vaccine == 0')['count']),\n",
    "    go.Bar(name='Vaccined', x=data.query('h1n1_vaccine == 1'), y=data.query('h1n1_vaccine == 1')['count'])\n",
    "])\n",
    "# Change the bar mode\n",
    "fig.update_layout(barmode='group')\n",
    "fig.update_xaxes(title='Concern of H1N1')\n",
    "fig.show()"
   ],
   "outputs": [],
   "metadata": {}
  },
  {
   "cell_type": "code",
   "execution_count": null,
   "source": [
    "fig = go.Figure()\n",
    "\n",
    "\n",
    "fig = make_subplots(rows=1, cols=2, shared_yaxes=True)\n",
    "\n",
    "fig.add_trace(go.Bar(x=data1.h1n1_vaccine, y = data1[\"count\"], marker_color=[\"red\",\"blue\"]\n",
    "                    ),\n",
    "              1, 1) #marker=dict(color=[\"h1n1_vaccine\"], coloraxis=\"coloraxis\") color=\"h1n1_vaccine\"\n",
    "\n",
    "\n",
    "fig.add_trace(go.Bar(x=data2.seasonal_vaccine, y = data2[\"count\"], marker_color=[\"red\",\"blue\"]\n",
    "                    ),\n",
    "              1, 2) # marker=dict(color=[\"seasonal_vaccine\"], coloraxis=\"coloraxis\") , color=\"seasonal_vaccine\"\n",
    "\n",
    "\n",
    "fig.update_layout(\n",
    "    xaxis1 = dict(\n",
    "        tickmode = 'array',\n",
    "        tickvals = [0,1],\n",
    "        ticktext = ['NOT VACCINATED', 'VACCINATED']\n",
    "    ),\n",
    "     xaxis2 = dict(\n",
    "        tickmode = 'array',\n",
    "        tickvals = [0,1],\n",
    "        ticktext = ['NOT VACCINATED', 'VACCINATED']\n",
    "    ),\n",
    "\n",
    ")\n",
    "\n",
    "#fig.update_xaxes(title='Concern of H1N1', ticktext=[''])\n",
    "fig.update_layout(coloraxis=dict(colorscale='Bluered_r'), showlegend=False )\n",
    "fig.show()\n",
    "\n"
   ],
   "outputs": [],
   "metadata": {}
  },
  {
   "cell_type": "code",
   "execution_count": null,
   "source": [
    "data = df.groupby([\"h1n1_concern\",\"h1n1_vaccine\"],as_index=True)[\"h1n1_concern\"].count().reset_index(name=\"count\")\n",
    "\n",
    "data"
   ],
   "outputs": [],
   "metadata": {}
  },
  {
   "cell_type": "code",
   "execution_count": null,
   "source": [
    "\n",
    "fig = go.Figure(data=[\n",
    "    go.Bar(name='Not vaccined', x=data.query('h1n1_vaccine == 0')['h1n1_concern'], y=data.query('h1n1_vaccine == 0')['count']),\n",
    "    go.Bar(name='Vaccined', x=data.query('h1n1_vaccine == 1')['h1n1_concern'], y=data.query('h1n1_vaccine == 1')['count'])\n",
    "])\n",
    "# Change the bar mode\n",
    "fig.update_layout(barmode='group')\n",
    "fig.update_xaxes(title='Concern of H1N1',\n",
    "    ticktext=['Not at all concerned 1', 'Not very concerned', 'Somewhat concerned', 'Very concerned'],\n",
    "    tickmode='array', tickvals = [0,1, 2, 3])\n",
    "fig.update_yaxes(title='Count of vaccinations')\n",
    "fig.show()"
   ],
   "outputs": [],
   "metadata": {}
  },
  {
   "cell_type": "code",
   "execution_count": null,
   "source": [
    "data_H1N1_risk = df.groupby([\"opinion_h1n1_risk\",\"h1n1_vaccine\"],as_index=True)[\"opinion_h1n1_risk\"].count().reset_index(name=\"count\")\n",
    "data_seas_risk = df.groupby([\"opinion_seas_risk\",\"seasonal_vaccine\"],as_index=True)[\"opinion_seas_risk\"].count().reset_index(name=\"count\")\n",
    "data_seas_risk"
   ],
   "outputs": [],
   "metadata": {}
  },
  {
   "cell_type": "code",
   "execution_count": null,
   "source": [
    "data_H1N1_risk"
   ],
   "outputs": [],
   "metadata": {}
  },
  {
   "cell_type": "code",
   "execution_count": null,
   "source": [
    "data_seas_risk.query('seasonal_vaccine == 0')['opinion_seas_risk']"
   ],
   "outputs": [],
   "metadata": {}
  },
  {
   "cell_type": "code",
   "execution_count": null,
   "source": [
    "fig = go.Figure()\n",
    "\n",
    "\n",
    "fig = make_subplots(rows=2, cols=2, shared_yaxes=True)\n",
    "\n",
    "fig.add_trace(go.Bar(x=data_H1N1_risk.query('h1n1_vaccine == 0')['opinion_h1n1_risk'], y=data_H1N1_risk.query('h1n1_vaccine == 0')['count']),1, 1) \n",
    "\n",
    "fig.add_trace(go.Bar(x=data_H1N1_risk.query('h1n1_vaccine == 1')['opinion_h1n1_risk'], y=data_H1N1_risk.query('h1n1_vaccine == 1')['count']),1, 2) \n",
    "\n",
    "fig.add_trace(go.Bar(x=data_seas_risk.query('seasonal_vaccine == 0')['opinion_seas_risk'], y=data_seas_risk.query('seasonal_vaccine == 0')['count']),2, 1) \n",
    "\n",
    "fig.add_trace(go.Bar(x=data_seas_risk.query('seasonal_vaccine == 1')['opinion_seas_risk'], y=data_seas_risk.query('seasonal_vaccine == 1')['count']),2, 2)\n",
    "\n",
    "\n",
    "\n",
    "#fig.update_xaxes(title='Concern of H1N1', ticktext=[''])\n",
    "fig.update_layout(coloraxis=dict(colorscale='Bluered_r'), showlegend=False )\n",
    "fig.show()\n"
   ],
   "outputs": [],
   "metadata": {}
  },
  {
   "cell_type": "code",
   "execution_count": null,
   "source": [],
   "outputs": [],
   "metadata": {}
  }
 ],
 "metadata": {
  "orig_nbformat": 4,
  "language_info": {
   "name": "python",
   "version": "3.8.5",
   "mimetype": "text/x-python",
   "codemirror_mode": {
    "name": "ipython",
    "version": 3
   },
   "pygments_lexer": "ipython3",
   "nbconvert_exporter": "python",
   "file_extension": ".py"
  },
  "kernelspec": {
   "name": "python3",
   "display_name": "Python 3.8.5 64-bit ('3.8.5': pyenv)"
  },
  "interpreter": {
   "hash": "8671f7993e8d3cc58f33dc943d848a4919948b6fcd2412dfcee8c0275219c601"
  }
 },
 "nbformat": 4,
 "nbformat_minor": 2
}